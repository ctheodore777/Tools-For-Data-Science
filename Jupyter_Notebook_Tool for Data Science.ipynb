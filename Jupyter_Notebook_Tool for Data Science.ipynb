{
 "cells": [
  {
   "cell_type": "markdown",
   "metadata": {},
   "source": [
    "<center>\n",
    "    <img src=\"https://cf-courses-data.s3.us.cloud-object-storage.appdomain.cloud/IBMDeveloperSkillsNetwork-DS0105EN-SkillsNetwork/labs/Module2/images/SN_web_lightmode.png\" width=\"300\" alt=\"cognitiveclass.ai logo\">\n",
    "</center>\n"
   ]
  },
  {
   "cell_type": "markdown",
   "metadata": {
    "tags": []
   },
   "source": [
    "#### Add your code below following the instructions given in the course\n"
   ]
  },
  {
   "cell_type": "code",
   "execution_count": null,
   "metadata": {},
   "outputs": [],
   "source": [
    "# Exercise 2 - Create a markdown cell with the title of the notebook. (1 pt)"
   ]
  },
  {
   "cell_type": "markdown",
   "metadata": {},
   "source": [
    "# Tool for Data Science"
   ]
  },
  {
   "cell_type": "code",
   "execution_count": null,
   "metadata": {},
   "outputs": [],
   "source": [
    "# Exercise 3 - Create a markdown cell for an introduction. (1 pt)"
   ]
  },
  {
   "cell_type": "markdown",
   "metadata": {
    "tags": []
   },
   "source": [
    "# Introduction\n",
    "\n"
   ]
  },
  {
   "cell_type": "markdown",
   "metadata": {},
   "source": [
    "Welcome to this notebook! \n",
    "\n",
    "Whether you're new to data science there's something here for you. So let's get started!"
   ]
  },
  {
   "cell_type": "code",
   "execution_count": null,
   "metadata": {},
   "outputs": [],
   "source": [
    "# Exercise 4 - Create a markdown cell to list data science languages. (3 pts)"
   ]
  },
  {
   "cell_type": "markdown",
   "metadata": {},
   "source": [
    "# Data Science Languages\n",
    "\n",
    "There are many programming languages used in data science. \n",
    "Here are some of the most popular:\n",
    "\n",
    "- Python: A versatile language with a large ecosystem of libraries for data manipulation, analysis, and modeling.\n",
    "- R: A language designed specifically for statistical computing and graphics.\n",
    "- SQL: A language used for managing and querying relational databases.\n",
    "- Julia: A language designed for numerical and scientific computing, with a syntax similar to that of MATLAB.\n",
    "- Scala: A language that runs on the Java Virtual Machine and is used for distributed computing and big data processing.\n",
    "- MATLAB: A language often used for numerical analysis, signal processing, and image processing.\n",
    "- SAS: A language used for data analysis and business intelligence.\n",
    "- JavaScript: A language often used for web development and data visualization.\n",
    "- C++: A language used for high-performance computing and large-scale simulations.\n",
    "\n",
    "Each language has its strengths and weaknesses, and the choice of language often depends on the specific task at hand and the preferences of the data scientist or analyst."
   ]
  },
  {
   "cell_type": "code",
   "execution_count": null,
   "metadata": {},
   "outputs": [],
   "source": [
    "# Exercise 5 - Create a markdown cell to list data science libraries. (3 pts)# "
   ]
  },
  {
   "cell_type": "markdown",
   "metadata": {},
   "source": [
    "# Data Science Libraries\n",
    "\n",
    "There are many libraries and tools used in data science. Here are some of the most popular:\n",
    "\n",
    "- NumPy: A library for numerical computing with Python, providing support for arrays and matrices, as well as mathematical operations and linear algebra routines.\n",
    "- Pandas: A library for data manipulation and analysis with Python, providing support for data structures such as data frames and series, as well as tools for handling missing data, merging and grouping data, and performing time series analysis.\n",
    "- Matplotlib: A library for creating static, animated, and interactive visualizations with Python, providing support for a wide range of plots, charts, and graphs.\n",
    "- Seaborn: A library for creating statistical visualizations with Python, providing support for heatmaps, scatterplots, regression plots, and other types of visualizations.\n",
    "- Scikit-learn: A library for machine learning with Python, providing support for a wide range of supervised and unsupervised learning algorithms, as well as tools for model selection, evaluation, and preprocessing.\n",
    "- TensorFlow: A library for machine learning and deep learning with Python, providing support for building and training neural networks, as well as tools for deploying models in production.\n",
    "- PyTorch: A library for machine learning and deep learning with Python, providing support for building and training neural networks, as well as tools for automatic differentiation and dynamic computation graphs.\n",
    "- Keras: A high-level neural networks API with Python, providing support for building and training neural networks with a simple and intuitive interface.\n",
    "- Spark: A library for distributed computing and big data processing with Python, providing support for processing large data sets in parallel on a cluster of machines.\n",
    "\n",
    "These libraries and tools form the backbone of many data science workflows and enable data scientists and analysts to perform complex computations, build predictive models, and create insightful visualizations."
   ]
  },
  {
   "cell_type": "code",
   "execution_count": null,
   "metadata": {},
   "outputs": [],
   "source": [
    "# Exercise 6 - Create a markdown cell with a table of Data Science tools. (3 pts)"
   ]
  },
  {
   "cell_type": "markdown",
   "metadata": {},
   "source": [
    "# Data Science Tools\n",
    "\n",
    "| Category       | Tool                | Description                                                  |\n",
    "|----------------|---------------------|--------------------------------------------------------------|\n",
    "| Programming    | Python              | A versatile language with a large ecosystem of data science libraries |\n",
    "|                | R                   | A language designed specifically for statistical computing and graphics |\n",
    "|                | SQL                 | A language used for managing and querying relational databases |\n",
    "|                | Julia               | A language designed for numerical and scientific computing     |\n",
    "|                | Scala               | A language that runs on the Java Virtual Machine and is used for distributed computing and big data processing |\n",
    "|                | MATLAB              | A language often used for numerical analysis, signal processing, and image processing |\n",
    "|                | SAS                 | A lanExercise 7 - Create a markdown cell introducing arithmetic expression examples. (1 pt)guage used for data analysis and business intelligence |\n",
    "|                | JavaScript          | A language often used for web development and data visualization |\n",
    "|                | C++                 | A language used for high-performance computing and large-scale simulations |\n",
    "| Libraries      | NumPy               | A library for numerical computing with Python |\n",
    "|                | Pandas              | A library for data manipulation and analysis with Python |\n",
    "|                | Matplotlib         | A library for creating static, animated, and interactive visualizations with Python |\n",
    "|                | Seaborn             | A library for creating statistical visualizations with Python |\n",
    "|                | Scikit-learn        | A library for machine learning with Python |\n",
    "|                | TensorFlow         | A library for machine learning and deep learning with Python |\n",
    "|                | PyTorch            | A library for machine learning and deep learning with Python |\n",
    "|                | Keras              | A high-level neural networks API with Python |\n",
    "|                | Spark              | A library for distributed computing and big data processing with Python |\n",
    "\n",
    "This table provides a summary of some popular data science tools and libraries, grouped by category. It's not an exhaustive list, but it gives a good overview of the landscape of data science tools available."
   ]
  },
  {
   "cell_type": "code",
   "execution_count": null,
   "metadata": {},
   "outputs": [],
   "source": [
    "# Exercise 7 - Create a markdown cell introducing arithmetic expression examples. (1 pt)"
   ]
  },
  {
   "cell_type": "markdown",
   "metadata": {
    "tags": []
   },
   "source": [
    "# Arithmetic Expression Examples\n",
    "\n",
    "Arithmetic expressions involve using mathematical operators such as addition, subtraction, multiplication, and division to perform calculations with numbers. In data science, arithmetic expressions are often used to manipulate and transform data.\n",
    "\n",
    "Here are some examples of arithmetic expressions:\n",
    "\n",
    "- Addition: `2 + 3 = 5`\n",
    "- Subtraction: `5 - 2 = 3`\n",
    "- Multiplication: `2 * 3 = 6`\n",
    "- Division: `6 / 2 = 3`\n",
    "\n",
    "Arithmetic expressions can also be more complex and involve parentheses, exponents, and other mathematical functions. In data science, these expressions can be used to calculate summary statistics, transform variables, and create new features for machine learning models."
   ]
  },
  {
   "cell_type": "code",
   "execution_count": null,
   "metadata": {},
   "outputs": [],
   "source": [
    "# Exercise 8 - Create a code cell to multiply and add numbers. (2 pts)"
   ]
  },
  {
   "cell_type": "code",
   "execution_count": 2,
   "metadata": {},
   "outputs": [
    {
     "name": "stdout",
     "output_type": "stream",
     "text": [
      "The product of 10 and 8 is 80\n",
      "The sum of 10 and 8 is 18\n"
     ]
    }
   ],
   "source": [
    "# Multiply and add numbers\n",
    "a = 10\n",
    "b = 8\n",
    "c = a * b  # multiply a and b\n",
    "d = a + b  # add a and b\n",
    "print(\"The product of\", a, \"and\", b, \"is\", c)\n",
    "print(\"The sum of\", a, \"and\", b, \"is\", d)\n"
   ]
  },
  {
   "cell_type": "code",
   "execution_count": null,
   "metadata": {},
   "outputs": [],
   "source": [
    "# Exercise 9 - Create a code cell to convert minutes to hours. (2 pts)"
   ]
  },
  {
   "cell_type": "raw",
   "metadata": {},
   "source": [
    "# Convert minutes to hours\n",
    "minutes = 300\n",
    "hours = minutes / 60\n",
    "print(minutes, \"minutes is equal to\", hours, \"hours\")"
   ]
  },
  {
   "cell_type": "code",
   "execution_count": null,
   "metadata": {},
   "outputs": [],
   "source": [
    "# Exercise 10 -Insert a markdown cell to list Objectives. (3 pts)"
   ]
  },
  {
   "cell_type": "markdown",
   "metadata": {},
   "source": [
    "# Objectives\n",
    "\n",
    "In this notebook, we will cover the following objectives:\n",
    "\n",
    "1. Introduce data science languages, libraries, and tools.\n",
    "2. Explore arithmetic expressions and mathematical operations in Python.\n",
    "3. Use variables and data types in Python.\n",
    "4. Read and write data using Python libraries.\n",
    "5. Manipulate and transform data using Python libraries.\n",
    "6. Visualize data using Python libraries.\n",
    "7. Build and evaluate machine learning models using Python libraries.\n",
    "8. Interpret and communicate results effectively."
   ]
  },
  {
   "cell_type": "code",
   "execution_count": null,
   "metadata": {},
   "outputs": [],
   "source": [
    "# Exercise 11 - Create a markdown cell to indicate the Author’s name. (2 pts)"
   ]
  },
  {
   "cell_type": "markdown",
   "metadata": {},
   "source": [
    "Author : Christopher Theodore"
   ]
  },
  {
   "cell_type": "code",
   "execution_count": null,
   "metadata": {},
   "outputs": [],
   "source": [
    "# Exercise 12 - Share your notebook through GitHub (3 pts)"
   ]
  },
  {
   "cell_type": "markdown",
   "metadata": {},
   "source": [
    "https://github.com/ctheodore777/Tools-For-Data-Science.git"
   ]
  },
  {
   "cell_type": "code",
   "execution_count": null,
   "metadata": {},
   "outputs": [],
   "source": [
    "# Exercise 13 - Take a screenshot of the first page of the notebook. (1 pt)"
   ]
  },
  {
   "cell_type": "raw",
   "metadata": {},
   "source": []
  }
 ],
 "metadata": {
  "kernelspec": {
   "display_name": "Python",
   "language": "python",
   "name": "conda-env-python-py"
  },
  "language_info": {
   "codemirror_mode": {
    "name": "ipython",
    "version": 3
   },
   "file_extension": ".py",
   "mimetype": "text/x-python",
   "name": "python",
   "nbconvert_exporter": "python",
   "pygments_lexer": "ipython3",
   "version": "3.7.12"
  }
 },
 "nbformat": 4,
 "nbformat_minor": 4
}
